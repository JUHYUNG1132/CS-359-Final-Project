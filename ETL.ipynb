{
 "cells": [
  {
   "cell_type": "markdown",
   "metadata": {},
   "source": [
    "# ETL Process\n",
    "---\n",
    " In this file, it will \n",
    " * read data inside 'fall2024data/'\n",
    " * convert data into one dataframe\n",
    " * change the name of features\n",
    " * drop rows which containing Nan or Inf value\n",
    " * save plot of features to 'Featrues_plot/'\n",
    " * save Analystic data to 'Analysis/'\n",
    " * save processed data to csv in 'Datasets/'\n",
    "\n",
    "    'Dataset.csv'           - whole dataset of traffic\\\n",
    "    'BENIGN.csv'            - set of data labeled 'BENIGN'\\\n",
    "    'DoS_GoldenEye.csv'     - set ofdata labeled 'DoS_GoldenEye'\\\n",
    "    'DoS_Hulk.csv'          - set of data labeled 'DoS_Hulk'\\\n",
    "    'DoS_Slowhttptest.csv'  - set of data labeled 'DoS_Slowttptest'\n",
    "    \n",
    " ..."
   ]
  },
  {
   "cell_type": "markdown",
   "metadata": {},
   "source": [
    "## Extraction\n",
    "---\n",
    "This part will load data from the folder and concatenate them into one DataFrame\n"
   ]
  },
  {
   "cell_type": "code",
   "execution_count": 1,
   "metadata": {},
   "outputs": [],
   "source": [
    "import numpy as np\n",
    "import pandas as pd\n",
    "import pyarrow.parquet as pq\n",
    "import glob\n",
    "import time\n",
    "from functools import wraps"
   ]
  },
  {
   "cell_type": "code",
   "execution_count": 2,
   "metadata": {},
   "outputs": [],
   "source": [
    "def logged(func):\n",
    "    @wraps(func)\n",
    "    def wrapper(*args, **kwargs):\n",
    "        start_time = time.time()\n",
    "        start_time_formatted = time.strftime('%H:%M:%S', time.localtime(start_time))\n",
    "        print(f\"[{start_time_formatted}] Function '{func.__name__}' start.\")\n",
    "        \n",
    "        result = func(*args, **kwargs)\n",
    "        \n",
    "        end_time = time.time()\n",
    "        end_time_formatted = time.strftime('%H:%M:%S', time.localtime(end_time))\n",
    "        execution_time = end_time - start_time\n",
    "        print(f\"[{end_time_formatted}] Function End, Duration: {execution_time:.4f}Sec\")\n",
    "        \n",
    "        return result\n",
    "    return wrapper"
   ]
  },
  {
   "cell_type": "code",
   "execution_count": 3,
   "metadata": {},
   "outputs": [],
   "source": [
    "@logged\n",
    "def get_Dset(fpath:str)->pd.DataFrame:\n",
    "    _ids = list()\n",
    "    try:\n",
    "        # get csv files\n",
    "        for csvfile in glob.glob(f'{fpath}/*.csv'):\n",
    "            print('{:30s}'.format(csvfile), 'found')\n",
    "            _ids.append(pd.read_csv(csvfile, sep=','))\n",
    "\n",
    "        # get json files\n",
    "        for jsonfile in glob.glob(f'{fpath}/*.json'):\n",
    "            print('{:30s}'.format(jsonfile), 'found')\n",
    "            _ids.append(pd.read_json(jsonfile, lines=True))\n",
    "\n",
    "        # get parquet files\n",
    "        for pqfile in glob.glob(f'{fpath}/*.parquet'):\n",
    "            buff = pq.read_table(pqfile)\n",
    "            print('{:30s}'.format(pqfile), 'found')\n",
    "            _ids.append(buff.to_pandas())\n",
    "\n",
    "        return pd.concat(_ids, ignore_index=True)\n",
    "    \n",
    "    except Exception as e:\n",
    "        print('Exception:', e)\n",
    "        return\n",
    "    \n",
    "    "
   ]
  },
  {
   "cell_type": "code",
   "execution_count": 4,
   "metadata": {},
   "outputs": [
    {
     "name": "stdout",
     "output_type": "stream",
     "text": [
      "[23:12:36] Function 'get_Dset' start.\n",
      "fall2024data/ids_2.csv         found\n",
      "fall2024data/ids_0.csv         found\n",
      "fall2024data/ids_1.csv         found\n",
      "fall2024data/ids_7.json        found\n",
      "fall2024data/ids_10.json       found\n",
      "fall2024data/ids_9.json        found\n",
      "fall2024data/ids_4.json        found\n",
      "fall2024data/ids_3.json        found\n",
      "fall2024data/ids_5.parquet     found\n",
      "fall2024data/ids_6.parquet     found\n",
      "fall2024data/ids_11.parquet    found\n",
      "fall2024data/ids_8.parquet     found\n",
      "[23:12:37] Function End, Duration: 0.6366Sec\n"
     ]
    }
   ],
   "source": [
    "ids = get_Dset('fall2024data')"
   ]
  },
  {
   "cell_type": "code",
   "execution_count": 5,
   "metadata": {},
   "outputs": [
    {
     "data": {
      "text/plain": [
       "(61128, 79)"
      ]
     },
     "execution_count": 5,
     "metadata": {},
     "output_type": "execute_result"
    }
   ],
   "source": [
    "ids.shape"
   ]
  },
  {
   "cell_type": "markdown",
   "metadata": {},
   "source": [
    "## Transform\n",
    "---\n",
    "In this part, data will be separated by its Label and processed to show some insight\n",
    "* Data types conversion\n",
    "* Data format conversion (cm to inches, etc.)\n",
    "* Remove duplicates\n",
    "* Identifying errors in data\n",
    "* Handling out-of-range and outlier data\n",
    "* Add any other transformations you find necessary.\n",
    "\n",
    "Also, Drop Label 'Heartbleed'\n"
   ]
  },
  {
   "cell_type": "code",
   "execution_count": 6,
   "metadata": {},
   "outputs": [
    {
     "name": "stdout",
     "output_type": "stream",
     "text": [
      "[23:12:37] Function 'drop_Heartbleed' start.\n",
      "11 items dropped\n",
      "[23:12:37] Function End, Duration: 0.0495Sec\n"
     ]
    }
   ],
   "source": [
    "@logged\n",
    "def drop_Heartbleed(data:pd.DataFrame):\n",
    "    # Drop Label 'Heartbleed'\n",
    "    Hbd = (data.iloc[:,-1] == 'Heartbleed')\n",
    "    H_idx = Hbd[Hbd == True].index\n",
    "    print(H_idx.shape[0], 'items dropped')\n",
    "    df = data.drop(H_idx)\n",
    "    return df\n",
    "\n",
    "df = drop_Heartbleed(ids)\n"
   ]
  },
  {
   "cell_type": "markdown",
   "metadata": {},
   "source": [
    "### General Info about data"
   ]
  },
  {
   "cell_type": "code",
   "execution_count": 7,
   "metadata": {},
   "outputs": [
    {
     "name": "stdout",
     "output_type": "stream",
     "text": [
      "(61117, 79)\n"
     ]
    }
   ],
   "source": [
    "# 61117 samples with 78 features and 1 label\n",
    "print(df.shape)"
   ]
  },
  {
   "cell_type": "code",
   "execution_count": 8,
   "metadata": {},
   "outputs": [
    {
     "name": "stdout",
     "output_type": "stream",
     "text": [
      "<class 'pandas.core.frame.DataFrame'>\n",
      "Index: 61117 entries, 0 to 61127\n",
      "Data columns (total 79 columns):\n",
      " #   Column                        Non-Null Count  Dtype  \n",
      "---  ------                        --------------  -----  \n",
      " 0    Destination Port             61117 non-null  int64  \n",
      " 1    Flow Duration                61117 non-null  int64  \n",
      " 2    Total Fwd Packets            61117 non-null  int64  \n",
      " 3    Total Backward Packets       61117 non-null  int64  \n",
      " 4   Total Length of Fwd Packets   61117 non-null  int64  \n",
      " 5    Total Length of Bwd Packets  61117 non-null  int64  \n",
      " 6    Fwd Packet Length Max        61117 non-null  int64  \n",
      " 7    Fwd Packet Length Min        61117 non-null  int64  \n",
      " 8    Fwd Packet Length Mean       61117 non-null  float64\n",
      " 9    Fwd Packet Length Std        61117 non-null  float64\n",
      " 10  Bwd Packet Length Max         61117 non-null  int64  \n",
      " 11   Bwd Packet Length Min        61117 non-null  int64  \n",
      " 12   Bwd Packet Length Mean       61117 non-null  float64\n",
      " 13   Bwd Packet Length Std        61117 non-null  float64\n",
      " 14  Flow Bytes/s                  61003 non-null  float64\n",
      " 15   Flow Packets/s               61092 non-null  float64\n",
      " 16   Flow IAT Mean                61117 non-null  float64\n",
      " 17   Flow IAT Std                 61117 non-null  float64\n",
      " 18   Flow IAT Max                 61117 non-null  int64  \n",
      " 19   Flow IAT Min                 61117 non-null  int64  \n",
      " 20  Fwd IAT Total                 61117 non-null  int64  \n",
      " 21   Fwd IAT Mean                 61117 non-null  float64\n",
      " 22   Fwd IAT Std                  61117 non-null  float64\n",
      " 23   Fwd IAT Max                  61117 non-null  int64  \n",
      " 24   Fwd IAT Min                  61117 non-null  int64  \n",
      " 25  Bwd IAT Total                 61117 non-null  int64  \n",
      " 26   Bwd IAT Mean                 61117 non-null  float64\n",
      " 27   Bwd IAT Std                  61117 non-null  float64\n",
      " 28   Bwd IAT Max                  61117 non-null  int64  \n",
      " 29   Bwd IAT Min                  61117 non-null  int64  \n",
      " 30  Fwd PSH Flags                 61117 non-null  int64  \n",
      " 31   Bwd PSH Flags                61117 non-null  int64  \n",
      " 32   Fwd URG Flags                61117 non-null  int64  \n",
      " 33   Bwd URG Flags                61117 non-null  int64  \n",
      " 34   Fwd Header Length            61117 non-null  int64  \n",
      " 35   Bwd Header Length            61117 non-null  int64  \n",
      " 36  Fwd Packets/s                 61117 non-null  float64\n",
      " 37   Bwd Packets/s                61117 non-null  float64\n",
      " 38   Min Packet Length            61117 non-null  int64  \n",
      " 39   Max Packet Length            61117 non-null  int64  \n",
      " 40   Packet Length Mean           61117 non-null  float64\n",
      " 41   Packet Length Std            61117 non-null  float64\n",
      " 42   Packet Length Variance       61117 non-null  float64\n",
      " 43  FIN Flag Count                61117 non-null  int64  \n",
      " 44   SYN Flag Count               61117 non-null  int64  \n",
      " 45   RST Flag Count               61117 non-null  int64  \n",
      " 46   PSH Flag Count               61117 non-null  int64  \n",
      " 47   ACK Flag Count               61117 non-null  int64  \n",
      " 48   URG Flag Count               61117 non-null  int64  \n",
      " 49   CWE Flag Count               61117 non-null  int64  \n",
      " 50   ECE Flag Count               61117 non-null  int64  \n",
      " 51   Down/Up Ratio                61117 non-null  int64  \n",
      " 52   Average Packet Size          61117 non-null  float64\n",
      " 53   Avg Fwd Segment Size         61117 non-null  float64\n",
      " 54   Avg Bwd Segment Size         61117 non-null  float64\n",
      " 55   Fwd Header Length.1          61117 non-null  int64  \n",
      " 56  Fwd Avg Bytes/Bulk            61117 non-null  int64  \n",
      " 57   Fwd Avg Packets/Bulk         61117 non-null  int64  \n",
      " 58   Fwd Avg Bulk Rate            61117 non-null  int64  \n",
      " 59   Bwd Avg Bytes/Bulk           61117 non-null  int64  \n",
      " 60   Bwd Avg Packets/Bulk         61117 non-null  int64  \n",
      " 61  Bwd Avg Bulk Rate             61117 non-null  int64  \n",
      " 62  Subflow Fwd Packets           61117 non-null  int64  \n",
      " 63   Subflow Fwd Bytes            61117 non-null  int64  \n",
      " 64   Subflow Bwd Packets          61117 non-null  int64  \n",
      " 65   Subflow Bwd Bytes            61117 non-null  int64  \n",
      " 66  Init_Win_bytes_forward        61117 non-null  int64  \n",
      " 67   Init_Win_bytes_backward      61117 non-null  int64  \n",
      " 68   act_data_pkt_fwd             61117 non-null  int64  \n",
      " 69   min_seg_size_forward         61117 non-null  int64  \n",
      " 70  Active Mean                   61117 non-null  float64\n",
      " 71   Active Std                   61117 non-null  float64\n",
      " 72   Active Max                   61117 non-null  int64  \n",
      " 73   Active Min                   61117 non-null  int64  \n",
      " 74  Idle Mean                     61117 non-null  float64\n",
      " 75   Idle Std                     61117 non-null  float64\n",
      " 76   Idle Max                     61117 non-null  int64  \n",
      " 77   Idle Min                     61117 non-null  int64  \n",
      " 78   Label                        61117 non-null  object \n",
      "dtypes: float64(24), int64(54), object(1)\n",
      "memory usage: 37.3+ MB\n"
     ]
    }
   ],
   "source": [
    "#All of features are in numerical type, thus, we don't need to transform it.\n",
    "df.info()"
   ]
  },
  {
   "cell_type": "code",
   "execution_count": 9,
   "metadata": {},
   "outputs": [
    {
     "name": "stdout",
     "output_type": "stream",
     "text": [
      "['BENIGN' 'DoS Hulk' 'DoS Slowhttptest' 'DoS GoldenEye']\n"
     ]
    }
   ],
   "source": [
    "print(pd.unique(df.iloc[:,-1]))"
   ]
  },
  {
   "cell_type": "markdown",
   "metadata": {},
   "source": [
    "### Change the name of the features"
   ]
  },
  {
   "cell_type": "code",
   "execution_count": 10,
   "metadata": {},
   "outputs": [],
   "source": [
    "@logged\n",
    "def strip_cols(df:pd.DataFrame)->pd.DataFrame:\n",
    "    # Some of features have confusing spaces in their name\n",
    "    cols = df.columns.to_list()\n",
    "    \n",
    "    for i in range(len(cols)):\n",
    "        print('{:30} ->'.format(cols[i]), end= ' ')\n",
    "        cols[i] = cols[i].strip()\n",
    "        print('{:30}'.format(cols[i]))\n",
    "        \n",
    "    return df.set_axis(cols, axis=1)\n",
    "        "
   ]
  },
  {
   "cell_type": "code",
   "execution_count": 11,
   "metadata": {},
   "outputs": [
    {
     "name": "stdout",
     "output_type": "stream",
     "text": [
      "[23:12:37] Function 'strip_cols' start.\n",
      " Destination Port              -> Destination Port              \n",
      " Flow Duration                 -> Flow Duration                 \n",
      " Total Fwd Packets             -> Total Fwd Packets             \n",
      " Total Backward Packets        -> Total Backward Packets        \n",
      "Total Length of Fwd Packets    -> Total Length of Fwd Packets   \n",
      " Total Length of Bwd Packets   -> Total Length of Bwd Packets   \n",
      " Fwd Packet Length Max         -> Fwd Packet Length Max         \n",
      " Fwd Packet Length Min         -> Fwd Packet Length Min         \n",
      " Fwd Packet Length Mean        -> Fwd Packet Length Mean        \n",
      " Fwd Packet Length Std         -> Fwd Packet Length Std         \n",
      "Bwd Packet Length Max          -> Bwd Packet Length Max         \n",
      " Bwd Packet Length Min         -> Bwd Packet Length Min         \n",
      " Bwd Packet Length Mean        -> Bwd Packet Length Mean        \n",
      " Bwd Packet Length Std         -> Bwd Packet Length Std         \n",
      "Flow Bytes/s                   -> Flow Bytes/s                  \n",
      " Flow Packets/s                -> Flow Packets/s                \n",
      " Flow IAT Mean                 -> Flow IAT Mean                 \n",
      " Flow IAT Std                  -> Flow IAT Std                  \n",
      " Flow IAT Max                  -> Flow IAT Max                  \n",
      " Flow IAT Min                  -> Flow IAT Min                  \n",
      "Fwd IAT Total                  -> Fwd IAT Total                 \n",
      " Fwd IAT Mean                  -> Fwd IAT Mean                  \n",
      " Fwd IAT Std                   -> Fwd IAT Std                   \n",
      " Fwd IAT Max                   -> Fwd IAT Max                   \n",
      " Fwd IAT Min                   -> Fwd IAT Min                   \n",
      "Bwd IAT Total                  -> Bwd IAT Total                 \n",
      " Bwd IAT Mean                  -> Bwd IAT Mean                  \n",
      " Bwd IAT Std                   -> Bwd IAT Std                   \n",
      " Bwd IAT Max                   -> Bwd IAT Max                   \n",
      " Bwd IAT Min                   -> Bwd IAT Min                   \n",
      "Fwd PSH Flags                  -> Fwd PSH Flags                 \n",
      " Bwd PSH Flags                 -> Bwd PSH Flags                 \n",
      " Fwd URG Flags                 -> Fwd URG Flags                 \n",
      " Bwd URG Flags                 -> Bwd URG Flags                 \n",
      " Fwd Header Length             -> Fwd Header Length             \n",
      " Bwd Header Length             -> Bwd Header Length             \n",
      "Fwd Packets/s                  -> Fwd Packets/s                 \n",
      " Bwd Packets/s                 -> Bwd Packets/s                 \n",
      " Min Packet Length             -> Min Packet Length             \n",
      " Max Packet Length             -> Max Packet Length             \n",
      " Packet Length Mean            -> Packet Length Mean            \n",
      " Packet Length Std             -> Packet Length Std             \n",
      " Packet Length Variance        -> Packet Length Variance        \n",
      "FIN Flag Count                 -> FIN Flag Count                \n",
      " SYN Flag Count                -> SYN Flag Count                \n",
      " RST Flag Count                -> RST Flag Count                \n",
      " PSH Flag Count                -> PSH Flag Count                \n",
      " ACK Flag Count                -> ACK Flag Count                \n",
      " URG Flag Count                -> URG Flag Count                \n",
      " CWE Flag Count                -> CWE Flag Count                \n",
      " ECE Flag Count                -> ECE Flag Count                \n",
      " Down/Up Ratio                 -> Down/Up Ratio                 \n",
      " Average Packet Size           -> Average Packet Size           \n",
      " Avg Fwd Segment Size          -> Avg Fwd Segment Size          \n",
      " Avg Bwd Segment Size          -> Avg Bwd Segment Size          \n",
      " Fwd Header Length.1           -> Fwd Header Length.1           \n",
      "Fwd Avg Bytes/Bulk             -> Fwd Avg Bytes/Bulk            \n",
      " Fwd Avg Packets/Bulk          -> Fwd Avg Packets/Bulk          \n",
      " Fwd Avg Bulk Rate             -> Fwd Avg Bulk Rate             \n",
      " Bwd Avg Bytes/Bulk            -> Bwd Avg Bytes/Bulk            \n",
      " Bwd Avg Packets/Bulk          -> Bwd Avg Packets/Bulk          \n",
      "Bwd Avg Bulk Rate              -> Bwd Avg Bulk Rate             \n",
      "Subflow Fwd Packets            -> Subflow Fwd Packets           \n",
      " Subflow Fwd Bytes             -> Subflow Fwd Bytes             \n",
      " Subflow Bwd Packets           -> Subflow Bwd Packets           \n",
      " Subflow Bwd Bytes             -> Subflow Bwd Bytes             \n",
      "Init_Win_bytes_forward         -> Init_Win_bytes_forward        \n",
      " Init_Win_bytes_backward       -> Init_Win_bytes_backward       \n",
      " act_data_pkt_fwd              -> act_data_pkt_fwd              \n",
      " min_seg_size_forward          -> min_seg_size_forward          \n",
      "Active Mean                    -> Active Mean                   \n",
      " Active Std                    -> Active Std                    \n",
      " Active Max                    -> Active Max                    \n",
      " Active Min                    -> Active Min                    \n",
      "Idle Mean                      -> Idle Mean                     \n",
      " Idle Std                      -> Idle Std                      \n",
      " Idle Max                      -> Idle Max                      \n",
      " Idle Min                      -> Idle Min                      \n",
      " Label                         -> Label                         \n",
      "[23:12:37] Function End, Duration: 0.0566Sec\n"
     ]
    }
   ],
   "source": [
    "df_stripped = strip_cols(df)"
   ]
  },
  {
   "cell_type": "code",
   "execution_count": 12,
   "metadata": {},
   "outputs": [
    {
     "data": {
      "text/plain": [
       "Index(['Destination Port', 'Flow Duration', 'Total Fwd Packets',\n",
       "       'Total Backward Packets', 'Total Length of Fwd Packets',\n",
       "       'Total Length of Bwd Packets', 'Fwd Packet Length Max',\n",
       "       'Fwd Packet Length Min', 'Fwd Packet Length Mean',\n",
       "       'Fwd Packet Length Std', 'Bwd Packet Length Max',\n",
       "       'Bwd Packet Length Min', 'Bwd Packet Length Mean',\n",
       "       'Bwd Packet Length Std', 'Flow Bytes/s', 'Flow Packets/s',\n",
       "       'Flow IAT Mean', 'Flow IAT Std', 'Flow IAT Max', 'Flow IAT Min',\n",
       "       'Fwd IAT Total', 'Fwd IAT Mean', 'Fwd IAT Std', 'Fwd IAT Max',\n",
       "       'Fwd IAT Min', 'Bwd IAT Total', 'Bwd IAT Mean', 'Bwd IAT Std',\n",
       "       'Bwd IAT Max', 'Bwd IAT Min', 'Fwd PSH Flags', 'Bwd PSH Flags',\n",
       "       'Fwd URG Flags', 'Bwd URG Flags', 'Fwd Header Length',\n",
       "       'Bwd Header Length', 'Fwd Packets/s', 'Bwd Packets/s',\n",
       "       'Min Packet Length', 'Max Packet Length', 'Packet Length Mean',\n",
       "       'Packet Length Std', 'Packet Length Variance', 'FIN Flag Count',\n",
       "       'SYN Flag Count', 'RST Flag Count', 'PSH Flag Count', 'ACK Flag Count',\n",
       "       'URG Flag Count', 'CWE Flag Count', 'ECE Flag Count', 'Down/Up Ratio',\n",
       "       'Average Packet Size', 'Avg Fwd Segment Size', 'Avg Bwd Segment Size',\n",
       "       'Fwd Header Length.1', 'Fwd Avg Bytes/Bulk', 'Fwd Avg Packets/Bulk',\n",
       "       'Fwd Avg Bulk Rate', 'Bwd Avg Bytes/Bulk', 'Bwd Avg Packets/Bulk',\n",
       "       'Bwd Avg Bulk Rate', 'Subflow Fwd Packets', 'Subflow Fwd Bytes',\n",
       "       'Subflow Bwd Packets', 'Subflow Bwd Bytes', 'Init_Win_bytes_forward',\n",
       "       'Init_Win_bytes_backward', 'act_data_pkt_fwd', 'min_seg_size_forward',\n",
       "       'Active Mean', 'Active Std', 'Active Max', 'Active Min', 'Idle Mean',\n",
       "       'Idle Std', 'Idle Max', 'Idle Min', 'Label'],\n",
       "      dtype='object')"
      ]
     },
     "execution_count": 12,
     "metadata": {},
     "output_type": "execute_result"
    }
   ],
   "source": [
    "df_stripped.columns"
   ]
  },
  {
   "cell_type": "code",
   "execution_count": null,
   "metadata": {},
   "outputs": [],
   "source": []
  },
  {
   "cell_type": "markdown",
   "metadata": {},
   "source": [
    "### Drop rows which contains Nan or Inf value"
   ]
  },
  {
   "cell_type": "code",
   "execution_count": 13,
   "metadata": {},
   "outputs": [],
   "source": [
    "@logged\n",
    "def drop_anomaly(df:pd.DataFrame)->pd.DataFrame:\n",
    "    # Convert Inf value into Nan\n",
    "    df.replace([np.inf, -np.inf], np.nan, inplace=True)\n",
    "    \n",
    "    # Columns containing NaN value\n",
    "    print(df.isna().sum().sum(), 'items dropped')\n",
    "    \n",
    "    # 'DoS Hulk' and 'BENIGN' contains Nan or Inf value\n",
    "    print(np.unique(df.loc[(ids.count(axis=1) < df.shape[1]), :].to_numpy()[:,-1], return_counts=True))\n",
    "    return df.dropna()\n"
   ]
  },
  {
   "cell_type": "code",
   "execution_count": 14,
   "metadata": {},
   "outputs": [
    {
     "name": "stdout",
     "output_type": "stream",
     "text": [
      "[23:12:37] Function 'drop_anomaly' start.\n",
      "232 items dropped\n",
      "(array(['DoS Hulk'], dtype=object), array([114]))\n",
      "[23:12:37] Function End, Duration: 0.0916Sec\n"
     ]
    }
   ],
   "source": [
    "df_dropped = drop_anomaly(df_stripped)"
   ]
  },
  {
   "cell_type": "code",
   "execution_count": 15,
   "metadata": {},
   "outputs": [
    {
     "data": {
      "text/plain": [
       "0"
      ]
     },
     "execution_count": 15,
     "metadata": {},
     "output_type": "execute_result"
    }
   ],
   "source": [
    "df_dropped.isna().sum().sum()"
   ]
  },
  {
   "cell_type": "code",
   "execution_count": 16,
   "metadata": {},
   "outputs": [
    {
     "data": {
      "text/plain": [
       "(61001, 79)"
      ]
     },
     "execution_count": 16,
     "metadata": {},
     "output_type": "execute_result"
    }
   ],
   "source": [
    "df_dropped.shape"
   ]
  },
  {
   "cell_type": "code",
   "execution_count": 17,
   "metadata": {},
   "outputs": [],
   "source": [
    "BENIGN = df_dropped.loc[df_dropped['Label'] == 'BENIGN']\n",
    "DoS_GoldenEye = df_dropped.loc[df_dropped['Label'] == 'DoS GoldenEye']\n",
    "DoS_Hulk = df_dropped.loc[df_dropped['Label'] == 'DoS Hulk']\n",
    "DoS_Slowhttptest = df_dropped.loc[df_dropped['Label'] == 'DoS Slowhttptest']"
   ]
  },
  {
   "cell_type": "markdown",
   "metadata": {},
   "source": [
    "### Plotting each features\n",
    "Just so watch distribution"
   ]
  },
  {
   "cell_type": "code",
   "execution_count": 18,
   "metadata": {},
   "outputs": [],
   "source": [
    "import matplotlib.pyplot as plt\n",
    "\n",
    "@logged\n",
    "def show_fig(target:list):\n",
    "    for j in range(len(BENIGN.columns)-1):\n",
    "        fig, ax = plt.subplots(len(target), 1, constrained_layout=True)\n",
    "        fig.set_dpi(600)\n",
    "    \n",
    "        target_col = j\n",
    "        fig.suptitle(BENIGN.columns[target_col])\n",
    "    \n",
    "        for i in range(len(target)):\n",
    "            \n",
    "            ax[i].set_title(target[i].iloc[0,-1])\n",
    "            ax[i].scatter(range(target[i].shape[0]), \n",
    "                          target[i].iloc[:,target_col].to_numpy(),\n",
    "                          marker='x', \n",
    "                          s=[5 for _ in range(target[i].shape[0])])\n",
    "        \n",
    "        fig.savefig(f\"Features_plot/{j}_{BENIGN.columns[j].replace('/', '')}.jpeg\", dpi=600)\n",
    "        plt.close(fig)\n",
    "        print(f\"Features_plot/{j}_{BENIGN.columns[j].replace('/', '')}.jpeg\")"
   ]
  },
  {
   "cell_type": "code",
   "execution_count": 19,
   "metadata": {},
   "outputs": [
    {
     "name": "stdout",
     "output_type": "stream",
     "text": [
      "[23:12:37] Function 'show_fig' start.\n",
      "Features_plot/0_Destination Port.jpeg\n",
      "Features_plot/1_Flow Duration.jpeg\n",
      "Features_plot/2_Total Fwd Packets.jpeg\n",
      "Features_plot/3_Total Backward Packets.jpeg\n",
      "Features_plot/4_Total Length of Fwd Packets.jpeg\n",
      "Features_plot/5_Total Length of Bwd Packets.jpeg\n",
      "Features_plot/6_Fwd Packet Length Max.jpeg\n",
      "Features_plot/7_Fwd Packet Length Min.jpeg\n",
      "Features_plot/8_Fwd Packet Length Mean.jpeg\n",
      "Features_plot/9_Fwd Packet Length Std.jpeg\n",
      "Features_plot/10_Bwd Packet Length Max.jpeg\n",
      "Features_plot/11_Bwd Packet Length Min.jpeg\n",
      "Features_plot/12_Bwd Packet Length Mean.jpeg\n",
      "Features_plot/13_Bwd Packet Length Std.jpeg\n",
      "Features_plot/14_Flow Bytess.jpeg\n",
      "Features_plot/15_Flow Packetss.jpeg\n",
      "Features_plot/16_Flow IAT Mean.jpeg\n",
      "Features_plot/17_Flow IAT Std.jpeg\n",
      "Features_plot/18_Flow IAT Max.jpeg\n",
      "Features_plot/19_Flow IAT Min.jpeg\n",
      "Features_plot/20_Fwd IAT Total.jpeg\n",
      "Features_plot/21_Fwd IAT Mean.jpeg\n",
      "Features_plot/22_Fwd IAT Std.jpeg\n",
      "Features_plot/23_Fwd IAT Max.jpeg\n",
      "Features_plot/24_Fwd IAT Min.jpeg\n",
      "Features_plot/25_Bwd IAT Total.jpeg\n",
      "Features_plot/26_Bwd IAT Mean.jpeg\n",
      "Features_plot/27_Bwd IAT Std.jpeg\n",
      "Features_plot/28_Bwd IAT Max.jpeg\n",
      "Features_plot/29_Bwd IAT Min.jpeg\n",
      "Features_plot/30_Fwd PSH Flags.jpeg\n",
      "Features_plot/31_Bwd PSH Flags.jpeg\n",
      "Features_plot/32_Fwd URG Flags.jpeg\n",
      "Features_plot/33_Bwd URG Flags.jpeg\n",
      "Features_plot/34_Fwd Header Length.jpeg\n",
      "Features_plot/35_Bwd Header Length.jpeg\n",
      "Features_plot/36_Fwd Packetss.jpeg\n",
      "Features_plot/37_Bwd Packetss.jpeg\n",
      "Features_plot/38_Min Packet Length.jpeg\n",
      "Features_plot/39_Max Packet Length.jpeg\n",
      "Features_plot/40_Packet Length Mean.jpeg\n",
      "Features_plot/41_Packet Length Std.jpeg\n",
      "Features_plot/42_Packet Length Variance.jpeg\n",
      "Features_plot/43_FIN Flag Count.jpeg\n",
      "Features_plot/44_SYN Flag Count.jpeg\n",
      "Features_plot/45_RST Flag Count.jpeg\n",
      "Features_plot/46_PSH Flag Count.jpeg\n",
      "Features_plot/47_ACK Flag Count.jpeg\n",
      "Features_plot/48_URG Flag Count.jpeg\n",
      "Features_plot/49_CWE Flag Count.jpeg\n",
      "Features_plot/50_ECE Flag Count.jpeg\n",
      "Features_plot/51_DownUp Ratio.jpeg\n",
      "Features_plot/52_Average Packet Size.jpeg\n",
      "Features_plot/53_Avg Fwd Segment Size.jpeg\n",
      "Features_plot/54_Avg Bwd Segment Size.jpeg\n",
      "Features_plot/55_Fwd Header Length.1.jpeg\n",
      "Features_plot/56_Fwd Avg BytesBulk.jpeg\n",
      "Features_plot/57_Fwd Avg PacketsBulk.jpeg\n",
      "Features_plot/58_Fwd Avg Bulk Rate.jpeg\n",
      "Features_plot/59_Bwd Avg BytesBulk.jpeg\n",
      "Features_plot/60_Bwd Avg PacketsBulk.jpeg\n",
      "Features_plot/61_Bwd Avg Bulk Rate.jpeg\n",
      "Features_plot/62_Subflow Fwd Packets.jpeg\n",
      "Features_plot/63_Subflow Fwd Bytes.jpeg\n",
      "Features_plot/64_Subflow Bwd Packets.jpeg\n",
      "Features_plot/65_Subflow Bwd Bytes.jpeg\n",
      "Features_plot/66_Init_Win_bytes_forward.jpeg\n",
      "Features_plot/67_Init_Win_bytes_backward.jpeg\n",
      "Features_plot/68_act_data_pkt_fwd.jpeg\n",
      "Features_plot/69_min_seg_size_forward.jpeg\n",
      "Features_plot/70_Active Mean.jpeg\n",
      "Features_plot/71_Active Std.jpeg\n",
      "Features_plot/72_Active Max.jpeg\n",
      "Features_plot/73_Active Min.jpeg\n",
      "Features_plot/74_Idle Mean.jpeg\n",
      "Features_plot/75_Idle Std.jpeg\n",
      "Features_plot/76_Idle Max.jpeg\n",
      "Features_plot/77_Idle Min.jpeg\n",
      "[23:13:29] Function End, Duration: 51.4784Sec\n"
     ]
    }
   ],
   "source": [
    "show_fig([BENIGN, DoS_GoldenEye, DoS_Hulk, DoS_Slowhttptest])"
   ]
  },
  {
   "cell_type": "code",
   "execution_count": 20,
   "metadata": {},
   "outputs": [],
   "source": [
    "df_dropped.describe().to_csv('Analysis/ids_describe.csv')"
   ]
  },
  {
   "cell_type": "code",
   "execution_count": 21,
   "metadata": {},
   "outputs": [],
   "source": [
    "DoS_GoldenEye.describe().to_csv('Analysis/GoldenEye_describe.csv')\n",
    "DoS_Hulk.describe().to_csv('Analysis/Hulk_describe.csv')\n",
    "DoS_Slowhttptest.describe().to_csv('Analysis/Slowhttptest_describe.csv')"
   ]
  },
  {
   "cell_type": "markdown",
   "metadata": {},
   "source": [
    "# Load\n",
    "---\n"
   ]
  },
  {
   "cell_type": "code",
   "execution_count": 22,
   "metadata": {},
   "outputs": [],
   "source": [
    "DoS_Slowhttptest.to_csv('Datasets/DoS_Slowhttptest.csv')\n",
    "DoS_Hulk.to_csv('Datasets/DoS_Hulk.csv')\n",
    "DoS_GoldenEye.to_csv('Datasets/DoS_GoldenEye.csv')"
   ]
  },
  {
   "cell_type": "code",
   "execution_count": 24,
   "metadata": {},
   "outputs": [],
   "source": [
    "df_dropped.to_csv('Datasets/Dataset.csv')"
   ]
  },
  {
   "cell_type": "code",
   "execution_count": null,
   "metadata": {},
   "outputs": [],
   "source": []
  }
 ],
 "metadata": {
  "kernelspec": {
   "display_name": "cs359",
   "language": "python",
   "name": "python3"
  },
  "language_info": {
   "codemirror_mode": {
    "name": "ipython",
    "version": 3
   },
   "file_extension": ".py",
   "mimetype": "text/x-python",
   "name": "python",
   "nbconvert_exporter": "python",
   "pygments_lexer": "ipython3",
   "version": "3.11.5"
  }
 },
 "nbformat": 4,
 "nbformat_minor": 2
}
