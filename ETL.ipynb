{
 "cells": [
  {
   "cell_type": "markdown",
   "metadata": {},
   "source": [
    "# ETL Process\n",
    "---\n",
    " In this file, it will \n",
    " * read data inside 'fall2024data/'\n",
    " * convert data into one dataframe\n",
    " * change the name of features\n",
    " * drop rows which containing Nan or Inf value\n",
    " * save plot of features to 'Featrues_plot/'\n",
    " * save Analystic data to 'Analysis/'\n",
    " * save processed data to csv in 'Datasets/'\n",
    "\n",
    "    'Dataset.csv'           - whole dataset of traffic\\\n",
    "    'BENIGN.csv'            - set of data labeled 'BENIGN'\\\n",
    "    'DoS_GoldenEye.csv'     - set ofdata labeled 'DoS_GoldenEye'\\\n",
    "    'DoS_Hulk.csv'          - set of data labeled 'DoS_Hulk'\\\n",
    "    'DoS_Slowhttptest.csv'  - set of data labeled 'DoS_Slowttptest'\n",
    "    \n",
    " ..."
   ]
  },
  {
   "cell_type": "markdown",
   "metadata": {},
   "source": [
    "## Extraction\n",
    "---\n",
    "This part will load data from the folder and concatenate them into one DataFrame\n"
   ]
  },
  {
   "cell_type": "code",
   "execution_count": null,
   "metadata": {},
   "outputs": [],
   "source": [
    "import numpy as np\n",
    "import pandas as pd\n",
    "import pyarrow.parquet as pq\n",
    "import glob"
   ]
  },
  {
   "cell_type": "code",
   "execution_count": null,
   "metadata": {},
   "outputs": [],
   "source": [
    "_ids = list()"
   ]
  },
  {
   "cell_type": "code",
   "execution_count": null,
   "metadata": {},
   "outputs": [],
   "source": [
    "# get csv files\n",
    "for csvfile in glob.glob('fall2024data/*.csv'):\n",
    "    _ids.append(pd.read_csv(csvfile, sep=','))"
   ]
  },
  {
   "cell_type": "code",
   "execution_count": null,
   "metadata": {},
   "outputs": [],
   "source": [
    "# get json files\n",
    "for jsonfile in glob.glob('fall2024data/*.json'):\n",
    "    _ids.append(pd.read_json(jsonfile, lines=True))"
   ]
  },
  {
   "cell_type": "code",
   "execution_count": null,
   "metadata": {},
   "outputs": [],
   "source": [
    "# get parquet files\n",
    "for pqfile in glob.glob('fall2024data/*.parquet'):\n",
    "    buff = pq.read_table(pqfile)\n",
    "    _ids.append(buff.to_pandas())"
   ]
  },
  {
   "cell_type": "code",
   "execution_count": null,
   "metadata": {},
   "outputs": [],
   "source": [
    "ids = pd.concat(_ids, ignore_index=True)"
   ]
  },
  {
   "cell_type": "markdown",
   "metadata": {},
   "source": [
    "## Transform\n",
    "---\n",
    "In this part, data will be separated by its Label and processed to show some insight\n",
    "* Data types conversion\n",
    "* Data format conversion (cm to inches, etc.)\n",
    "* Remove duplicates\n",
    "* Identifying errors in data\n",
    "* Handling out-of-range and outlier data\n",
    "* Add any other transformations you find necessary.\n",
    "\n",
    "Also, Drop Label 'Heartbleed'\n"
   ]
  },
  {
   "cell_type": "code",
   "execution_count": null,
   "metadata": {},
   "outputs": [],
   "source": [
    "# Drop Label 'Heartbleed'\n",
    "Hbd = (ids.iloc[:,-1] == 'Heartbleed')\n",
    "H_idx = Hbd[Hbd == True].index\n",
    "ids.drop(H_idx, inplace=True)"
   ]
  },
  {
   "cell_type": "markdown",
   "metadata": {},
   "source": [
    "### General Info about data"
   ]
  },
  {
   "cell_type": "code",
   "execution_count": null,
   "metadata": {},
   "outputs": [],
   "source": [
    "# 61117 samples with 78 features and 1 label\n",
    "ids.shape"
   ]
  },
  {
   "cell_type": "code",
   "execution_count": null,
   "metadata": {},
   "outputs": [],
   "source": [
    "#All of features are in numerical type, thus, we don't need to transform it.\n",
    "ids.info()"
   ]
  },
  {
   "cell_type": "code",
   "execution_count": null,
   "metadata": {},
   "outputs": [],
   "source": [
    "pd.unique(ids.iloc[:,-1])"
   ]
  },
  {
   "cell_type": "markdown",
   "metadata": {},
   "source": [
    "### Change the name of the features"
   ]
  },
  {
   "cell_type": "code",
   "execution_count": null,
   "metadata": {},
   "outputs": [],
   "source": [
    "cols = list(ids.columns)\n",
    "for i in range(len(cols)):\n",
    "    cols[i] = cols[i].strip()\n",
    "ids.columns = cols"
   ]
  },
  {
   "cell_type": "markdown",
   "metadata": {},
   "source": [
    "### Drop rows which contains Nan or Inf value"
   ]
  },
  {
   "cell_type": "code",
   "execution_count": null,
   "metadata": {},
   "outputs": [],
   "source": [
    "# Convert Inf value into Nan\n",
    "ids.replace([np.inf, -np.inf], np.nan, inplace=True)"
   ]
  },
  {
   "cell_type": "code",
   "execution_count": null,
   "metadata": {},
   "outputs": [],
   "source": [
    "# Columns containing NaN value\n",
    "ids.columns[ids.isna().any()]"
   ]
  },
  {
   "cell_type": "code",
   "execution_count": null,
   "metadata": {},
   "outputs": [],
   "source": [
    "# 'DoS Hulk' and 'BENIGN' contains Nan or Inf value\n",
    "np.unique(ids.loc[(ids.count(axis=1) < ids.shape[1]), :].to_numpy()[:,-1], return_counts=True)"
   ]
  },
  {
   "cell_type": "code",
   "execution_count": null,
   "metadata": {},
   "outputs": [],
   "source": [
    "ids.dropna(inplace=True)\n",
    "ids.isna().sum().sum()"
   ]
  },
  {
   "cell_type": "code",
   "execution_count": null,
   "metadata": {},
   "outputs": [],
   "source": []
  },
  {
   "cell_type": "code",
   "execution_count": null,
   "metadata": {},
   "outputs": [],
   "source": [
    "BENIGN = ids.loc[ids['Label'] == 'BENIGN']\n",
    "DoS_GoldenEye = ids.loc[ids['Label'] == 'DoS GoldenEye']\n",
    "DoS_Hulk = ids.loc[ids['Label'] == 'DoS Hulk']\n",
    "DoS_Slowhttptest = ids.loc[ids['Label'] == 'DoS Slowhttptest']"
   ]
  },
  {
   "cell_type": "markdown",
   "metadata": {},
   "source": [
    "### Plotting each features\n",
    "Just so watch distribution"
   ]
  },
  {
   "cell_type": "code",
   "execution_count": null,
   "metadata": {},
   "outputs": [],
   "source": [
    "import matplotlib.pyplot as plt"
   ]
  },
  {
   "cell_type": "code",
   "execution_count": null,
   "metadata": {},
   "outputs": [],
   "source": [
    "target = [BENIGN, DoS_GoldenEye, DoS_Hulk, DoS_Slowhttptest]"
   ]
  },
  {
   "cell_type": "code",
   "execution_count": null,
   "metadata": {},
   "outputs": [],
   "source": [
    "for j in range(len(BENIGN.columns)-1):\n",
    "    fig, ax = plt.subplots(len(target), 1, constrained_layout=True)\n",
    "    fig.set_dpi(600)\n",
    "\n",
    "    target_col = j\n",
    "    fig.suptitle(BENIGN.columns[target_col])\n",
    "\n",
    "    for i in range(len(target)):\n",
    "        \n",
    "        ax[i].set_title(target[i].iloc[0,-1])\n",
    "        ax[i].scatter(range(target[i].shape[0]), \n",
    "                      target[i].iloc[:,target_col].to_numpy(),\n",
    "                      marker='x', \n",
    "                      s=[5 for _ in range(target[i].shape[0])])\n",
    "    \n",
    "    fig.savefig(f\"Features_plot/{j}_{BENIGN.columns[j].replace('/', '')}.jpeg\", dpi=600)\n",
    "    plt.close(fig)\n",
    "    print(f\"Features_plot/{j}_{BENIGN.columns[j].replace('/', '')}.jpeg\")"
   ]
  },
  {
   "cell_type": "code",
   "execution_count": null,
   "metadata": {},
   "outputs": [],
   "source": [
    "ids.describe().to_csv('Analysis/ids_describe.csv')"
   ]
  },
  {
   "cell_type": "code",
   "execution_count": null,
   "metadata": {},
   "outputs": [],
   "source": [
    "DoS_GoldenEye.describe().to_csv('Analysis/GoldenEye_describe.csv')\n",
    "DoS_Hulk.describe().to_csv('Analysis/Hulk_describe.csv')\n",
    "DoS_Slowhttptest.describe().to_csv('Analysis/Slowhttptest_describe.csv')"
   ]
  },
  {
   "cell_type": "markdown",
   "metadata": {},
   "source": [
    "# Load\n",
    "---\n"
   ]
  },
  {
   "cell_type": "code",
   "execution_count": null,
   "metadata": {},
   "outputs": [],
   "source": [
    "DoS_Slowhttptest.to_csv('Datasets/DoS_Slowhttptest.csv')\n",
    "DoS_Hulk.to_csv('Datasets/DoS_Hulk.csv')\n",
    "DoS_GoldenEye.to_csv('Datasets/DoS_GoldenEye.csv')"
   ]
  },
  {
   "cell_type": "code",
   "execution_count": null,
   "metadata": {},
   "outputs": [],
   "source": [
    "ids.to_csv('Datasets/Dataset.csv')"
   ]
  },
  {
   "cell_type": "code",
   "execution_count": null,
   "metadata": {},
   "outputs": [],
   "source": []
  }
 ],
 "metadata": {
  "kernelspec": {
   "display_name": "cs359",
   "language": "python",
   "name": "python3"
  },
  "language_info": {
   "codemirror_mode": {
    "name": "ipython",
    "version": 3
   },
   "file_extension": ".py",
   "mimetype": "text/x-python",
   "name": "python",
   "nbconvert_exporter": "python",
   "pygments_lexer": "ipython3",
   "version": "3.11.5"
  }
 },
 "nbformat": 4,
 "nbformat_minor": 2
}
